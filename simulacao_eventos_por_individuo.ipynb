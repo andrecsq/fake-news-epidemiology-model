{
  "nbformat": 4,
  "nbformat_minor": 0,
  "metadata": {
    "colab": {
      "name": "simulacao_eventos_por_individuo.ipynb",
      "provenance": [],
      "collapsed_sections": [],
      "include_colab_link": true
    },
    "kernelspec": {
      "name": "python3",
      "display_name": "Python 3"
    }
  },
  "cells": [
    {
      "cell_type": "markdown",
      "metadata": {
        "id": "view-in-github",
        "colab_type": "text"
      },
      "source": [
        "<a href=\"https://colab.research.google.com/github/andrecsq/trabalho_simulacao/blob/main/simulacao_eventos_por_individuo.ipynb\" target=\"_parent\"><img src=\"https://colab.research.google.com/assets/colab-badge.svg\" alt=\"Open In Colab\"/></a>"
      ]
    },
    {
      "cell_type": "code",
      "metadata": {
        "id": "obSUDAbSit-x"
      },
      "source": [
        "import numpy as np\r\n",
        "import matplotlib.pyplot as plt"
      ],
      "execution_count": null,
      "outputs": []
    },
    {
      "cell_type": "markdown",
      "metadata": {
        "id": "IHIQe1QOsRN1"
      },
      "source": [
        "Solução Analítica"
      ]
    },
    {
      "cell_type": "code",
      "metadata": {
        "id": "HBIbVzfim6zd"
      },
      "source": [
        "beta = 2\r\n",
        "gamma = 0.5\r\n",
        "total_population = 100\r\n",
        "time_steps = 50\r\n",
        "initial_infected = 1\r\n",
        "\r\n",
        "I_inf = (1- gamma/beta)*total_population\r\n",
        "V = I_inf/initial_infected - 1\r\n",
        "x = beta - gamma\r\n",
        "\r\n",
        "def I(t):\r\n",
        "  return I_inf / (1 + V*np.exp(-x*t) )\r\n",
        "\r\n",
        "infected_analytic = np.array([I(t) for t in range(0, time_steps)])\r\n",
        "susceptible_analytic = total_population - infected_analytic"
      ],
      "execution_count": null,
      "outputs": []
    },
    {
      "cell_type": "code",
      "metadata": {
        "colab": {
          "base_uri": "https://localhost:8080/",
          "height": 282
        },
        "id": "Nu7qBH8an4zl",
        "outputId": "3925104a-fc61-4cda-d009-4cc0facbd4cb"
      },
      "source": [
        "plt.plot(susceptible_analytic, label='susceptible')\r\n",
        "plt.plot(infected_analytic, label='infected')\r\n",
        "plt.legend()"
      ],
      "execution_count": null,
      "outputs": [
        {
          "output_type": "execute_result",
          "data": {
            "text/plain": [
              "<matplotlib.legend.Legend at 0x7f0107134190>"
            ]
          },
          "metadata": {
            "tags": []
          },
          "execution_count": 90
        },
        {
          "output_type": "display_data",
          "data": {
            "image/png": "[encoded data removed]",
            "text/plain": [
              "<Figure size 432x288 with 1 Axes>"
            ]
          },
          "metadata": {
            "tags": [],
            "needs_background": "light"
          }
        }
      ]
    },
    {
      "cell_type": "markdown",
      "metadata": {
        "id": "VTRWhbNlsTMq"
      },
      "source": [
        "## Implementação Eventos"
      ]
    },
    {
      "cell_type": "code",
      "metadata": {
        "id": "O4OOP338sWDj"
      },
      "source": [
        "import queue\r\n",
        "from dataclasses import dataclass, field\r\n",
        "\r\n",
        "@dataclass(order=True)\r\n",
        "class Event:\r\n",
        "  time: float\r\n",
        "  event_type: str=field(compare=False)\r\n",
        "  x: int=field(compare=False)\r\n",
        "  prob: float=field(compare=False, default=None)"
      ],
      "execution_count": null,
      "outputs": []
    },
    {
      "cell_type": "code",
      "metadata": {
        "id": "tcDZ-2ODtdPc"
      },
      "source": [
        "def initialize_population_state(total_population, initial_infected):\r\n",
        "  pop_state = [False] * total_population\r\n",
        "  for i in range(initial_infected):\r\n",
        "    pop_state[i] = True\r\n",
        "  return pop_state\r\n",
        "\r\n",
        "def initialize_queue(beta, total_population, initial_infected):\r\n",
        "  q = queue.PriorityQueue()\r\n",
        "  for i in range(total_population):\r\n",
        "    encounter_time = np.random.exponential(1/beta)\r\n",
        "    encounter_event = Event(encounter_time, 'encounter', i)\r\n",
        "    q.put(encounter_event)\r\n",
        "  \r\n",
        "  for i in range(initial_infected):\r\n",
        "    cure_time = np.random.exponential(1/gamma)\r\n",
        "    cure_event = Event(cure_time, 'cure', i)\r\n",
        "    q.put(cure_event)\r\n",
        "\r\n",
        "  return q"
      ],
      "execution_count": null,
      "outputs": []
    },
    {
      "cell_type": "code",
      "metadata": {
        "id": "iTL5khgpz6qT"
      },
      "source": [
        "def try_infection(gamma, e, is_infected, q):\r\n",
        "  time = e.time\r\n",
        "  infected = e.x\r\n",
        "  \r\n",
        "  is_infected[infected] = True # Now infected\r\n",
        "\r\n",
        "  cure_time = np.random.exponential(1/gamma) # Creates random cure time\r\n",
        "  cure_event_infected = Event(e.time + cure_time, 'cure', infected) # Create Event objects\r\n",
        "\r\n",
        "  q.put(cure_event_infected) # Add events to queue\r\n",
        "  events.append(Event(time, 'infection', infected))\r\n",
        "\r\n",
        "def generate_new_encounter(beta, e, q):\r\n",
        "  encounter_time = e.time + np.random.exponential(1/beta)\r\n",
        "  q.put(Event(encounter_time, 'encounter', e.x))\r\n",
        "\r\n",
        "def handle_cure(e, is_infected):\r\n",
        "  is_infected[e.x] = False \r\n",
        "  events.append(Event(e.time, 'cure', e.x))\r\n",
        "\r\n",
        "# def handle_infection(beta, gamma, e, is_infected, q, null_infections):    \r\n",
        "#   if is_infected[e.x] and not is_infected[e.y]:\r\n",
        "#     try_infection(gamma, e, is_infected, q) \r\n",
        "#     if DEBUG:\r\n",
        "#       print(f\"{null_infections} events without infection\")\r\n",
        "#     null_infections = -1\r\n",
        "#   generate_new_encounter(beta, e, q)\r\n",
        "#   return null_infections + 1"
      ],
      "execution_count": null,
      "outputs": []
    },
    {
      "cell_type": "code",
      "metadata": {
        "id": "1BDXrAQYBOKw"
      },
      "source": [
        "events = []\r\n",
        "\r\n",
        "def print_state_string(infected_array):\r\n",
        "  is_infected_formatted = \"\".join([str(int(i)) for i in infected_array])\r\n",
        "  print(is_infected_formatted)\r\n",
        "\r\n",
        "def simulate_epidemic(beta, gamma, total_population, initial_infected, max_time):\r\n",
        "  is_infected = initialize_population_state(total_population, initial_infected)\r\n",
        "  q = initialize_queue(beta, total_population, initial_infected)\r\n",
        "  times = []\r\n",
        "  amount_infected = []\r\n",
        "\r\n",
        "\r\n",
        "  null_infections = 0\r\n",
        "  while not q.empty():\r\n",
        "    e = q.get()\r\n",
        "    \r\n",
        "    if e.time > max_time:\r\n",
        "      return times, amount_infected\r\n",
        "    if e.event_type == 'cure':\r\n",
        "      handle_cure(e, is_infected)     \r\n",
        "    elif e.event_type == 'encounter':\r\n",
        "      if not is_infected[e.x]:   \r\n",
        "        try_infection(gamma, e, is_infected, q)    \r\n",
        "      generate_new_encounter(beta, e, q) \r\n",
        "\r\n",
        "    times.append(e.time)\r\n",
        "    infected = sum(is_infected)\r\n",
        "    amount_infected.append(infected)\r\n",
        "\r\n",
        "    if infected == 0:\r\n",
        "      break\r\n",
        "  \r\n",
        "  return times, amount_infected"
      ],
      "execution_count": null,
      "outputs": []
    },
    {
      "cell_type": "code",
      "metadata": {
        "id": "Fu_wahy8R4QX"
      },
      "source": [
        "contacts_per_unit_time = 2\r\n",
        "probability_of_infection = 1\r\n",
        "\r\n",
        "beta = probability_of_infection\r\n",
        "gamma = 0.5\r\n",
        "\r\n",
        "total_population = 100\r\n",
        "initial_infected = 1\r\n",
        "max_time = 200"
      ],
      "execution_count": null,
      "outputs": []
    },
    {
      "cell_type": "code",
      "metadata": {
        "id": "mry25uMuq8QX"
      },
      "source": [
        "times, amount_infected = simulate_epidemic(beta, \r\n",
        "                                          gamma, \r\n",
        "                                          total_population,\r\n",
        "                                          initial_infected,\r\n",
        "                                          max_time)"
      ],
      "execution_count": null,
      "outputs": []
    },
    {
      "cell_type": "code",
      "metadata": {
        "id": "ju1E2cSqHXKA",
        "colab": {
          "base_uri": "https://localhost:8080/",
          "height": 282
        },
        "outputId": "2d6c99f3-a0ea-496e-b691-144527862191"
      },
      "source": [
        "amount_susceptible = total_population - np.array(amount_infected)\r\n",
        "new_times = np.array(times) * 10\r\n",
        "plt.plot(new_times, amount_susceptible, label='susceptible')\r\n",
        "plt.plot(new_times, amount_infected, label='infected')\r\n",
        "plt.legend()"
      ],
      "execution_count": null,
      "outputs": [
        {
          "output_type": "execute_result",
          "data": {
            "text/plain": [
              "<matplotlib.legend.Legend at 0x7f0106ce7e50>"
            ]
          },
          "metadata": {
            "tags": []
          },
          "execution_count": 97
        },
        {
          "output_type": "display_data",
          "data": {
            "image/png": "[encoded data removed]",
            "text/plain": [
              "<Figure size 432x288 with 1 Axes>"
            ]
          },
          "metadata": {
            "tags": [],
            "needs_background": "light"
          }
        }
      ]
    },
    {
      "cell_type": "code",
      "metadata": {
        "colab": {
          "base_uri": "https://localhost:8080/",
          "height": 282
        },
        "id": "fuJNW14vvbcr",
        "outputId": "e12281ed-2585-45bd-f066-0f019d5ee9a4"
      },
      "source": [
        "avg_infected = [sum(amount_infected[0:i])/(i+1) for i in range(len(amount_susceptible))]\r\n",
        "plt.plot(new_times, avg_infected, label='avg_infected')\r\n",
        "plt.legend()"
      ],
      "execution_count": null,
      "outputs": [
        {
          "output_type": "execute_result",
          "data": {
            "text/plain": [
              "<matplotlib.legend.Legend at 0x7f0106cf7f90>"
            ]
          },
          "metadata": {
            "tags": []
          },
          "execution_count": 98
        },
        {
          "output_type": "display_data",
          "data": {
            "image/png": "[encoded data removed]",
            "text/plain": [
              "<Figure size 432x288 with 1 Axes>"
            ]
          },
          "metadata": {
            "tags": [],
            "needs_background": "light"
          }
        }
      ]
    }
  ]
}