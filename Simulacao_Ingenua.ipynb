{
  "nbformat": 4,
  "nbformat_minor": 0,
  "metadata": {
    "colab": {
      "name": "Simulacao_Ingenua.ipynb",
      "provenance": [],
      "collapsed_sections": [],
      "include_colab_link": true
    },
    "kernelspec": {
      "name": "python3",
      "display_name": "Python 3"
    }
  },
  "cells": [
    {
      "cell_type": "markdown",
      "metadata": {
        "id": "view-in-github",
        "colab_type": "text"
      },
      "source": [
        "<a href=\"https://colab.research.google.com/github/andrecsq/trabalho_simulacao/blob/main/Simulacao_Ingenua.ipynb\" target=\"_parent\"><img src=\"https://colab.research.google.com/assets/colab-badge.svg\" alt=\"Open In Colab\"/></a>"
      ]
    },
    {
      "cell_type": "code",
      "metadata": {
        "id": "obSUDAbSit-x"
      },
      "source": [
        "import numpy as np\r\n",
        "import matplotlib.pyplot as plt"
      ],
      "execution_count": null,
      "outputs": []
    },
    {
      "cell_type": "markdown",
      "metadata": {
        "id": "srSpn3oPsOfk"
      },
      "source": [
        "Como fazer da forma errada"
      ]
    },
    {
      "cell_type": "code",
      "metadata": {
        "id": "f313DZscikkL"
      },
      "source": [
        "beta = 0.5\r\n",
        "gamma = 0.3\r\n",
        "time_steps = 200\r\n",
        "\r\n",
        "total_population = 1000\r\n",
        "initial_infected = 10 \r\n",
        "\r\n",
        "infected = np.zeros(time_steps) \r\n",
        "infected[0] = initial_infected  "
      ],
      "execution_count": null,
      "outputs": []
    },
    {
      "cell_type": "code",
      "metadata": {
        "id": "iK5hO4CmiorR"
      },
      "source": [
        "# Recuperação é 1/taxa\r\n",
        "\r\n",
        "for t in range(1, time_steps):    \r\n",
        "    susceptible = total_population-infected[t-1]\r\n",
        "    \r\n",
        "    cured = np.random.binomial(n=infected[t-1], p=gamma)\r\n",
        "    new_infected = np.random.binomial(n=susceptible, p=beta)\r\n",
        "    \r\n",
        "    infected[t] = infected[t-1] - cured + new_infected\r\n",
        "\r\n",
        "susceptible = 1000 - infected"
      ],
      "execution_count": null,
      "outputs": []
    },
    {
      "cell_type": "code",
      "metadata": {
        "colab": {
          "base_uri": "https://localhost:8080/",
          "height": 282
        },
        "id": "0RVi7l03i6EE",
        "outputId": "9964621e-1fb7-4a2f-89df-9d8eb9acfdd8"
      },
      "source": [
        "plt.plot(susceptible, label='susceptible')\r\n",
        "plt.plot(infected, label='infected')\r\n",
        "plt.legend()"
      ],
      "execution_count": null,
      "outputs": [
        {
          "output_type": "execute_result",
          "data": {
            "text/plain": [
              "<matplotlib.legend.Legend at 0x7f8c0e141190>"
            ]
          },
          "metadata": {
            "tags": []
          },
          "execution_count": 60
        },
        {
          "output_type": "display_data",
          "data": {
            "image/png": "[encoded data removed]",
            "text/plain": [
              "<Figure size 432x288 with 1 Axes>"
            ]
          },
          "metadata": {
            "tags": [],
            "needs_background": "light"
          }
        }
      ]
    },
    {
      "cell_type": "markdown",
      "metadata": {
        "id": "IHIQe1QOsRN1"
      },
      "source": [
        "# Solução Analítica"
      ]
    },
    {
      "cell_type": "code",
      "metadata": {
        "id": "HBIbVzfim6zd"
      },
      "source": [
        "beta = 2\r\n",
        "gamma = 0.5\r\n",
        "total_population = 100\r\n",
        "time_steps = 50\r\n",
        "initial_infected = 1\r\n",
        "\r\n",
        "I_inf = (1- gamma/beta)*total_population\r\n",
        "V = I_inf/initial_infected - 1\r\n",
        "x = beta - gamma\r\n",
        "\r\n",
        "def I(t):\r\n",
        "  return I_inf / (1 + V*np.exp(-x*t) )\r\n",
        "\r\n",
        "infected_analytic = np.array([I(t) for t in range(0, time_steps)])\r\n",
        "susceptible_analytic = total_population - infected_analytic"
      ],
      "execution_count": null,
      "outputs": []
    },
    {
      "cell_type": "code",
      "metadata": {
        "colab": {
          "base_uri": "https://localhost:8080/",
          "height": 282
        },
        "id": "Nu7qBH8an4zl",
        "outputId": "14917955-848e-4384-f562-402cb33a218c"
      },
      "source": [
        "plt.plot(susceptible_analytic, label='susceptible')\r\n",
        "plt.plot(infected_analytic, label='infected')\r\n",
        "plt.legend()"
      ],
      "execution_count": null,
      "outputs": [
        {
          "output_type": "execute_result",
          "data": {
            "text/plain": [
              "<matplotlib.legend.Legend at 0x7f8c0e0b5f10>"
            ]
          },
          "metadata": {
            "tags": []
          },
          "execution_count": 62
        },
        {
          "output_type": "display_data",
          "data": {
            "image/png": "[encoded data removed]",
            "text/plain": [
              "<Figure size 432x288 with 1 Axes>"
            ]
          },
          "metadata": {
            "tags": [],
            "needs_background": "light"
          }
        }
      ]
    },
    {
      "cell_type": "markdown",
      "metadata": {
        "id": "VTRWhbNlsTMq"
      },
      "source": [
        "## Implementação Eventos"
      ]
    },
    {
      "cell_type": "code",
      "metadata": {
        "id": "O4OOP338sWDj"
      },
      "source": [
        "import queue\r\n",
        "from dataclasses import dataclass, field\r\n",
        "\r\n",
        "@dataclass(order=True)\r\n",
        "class Event:\r\n",
        "  time: float\r\n",
        "  event_type: str=field(compare=False)\r\n",
        "  x: int=field(compare=False)\r\n",
        "  y: int=field(compare=False, default=None)"
      ],
      "execution_count": null,
      "outputs": []
    },
    {
      "cell_type": "code",
      "metadata": {
        "id": "tcDZ-2ODtdPc"
      },
      "source": [
        "def initialize_population_state(total_population, initial_infected):\r\n",
        "  pop_state = [False] * total_population\r\n",
        "  for i in range(initial_infected):\r\n",
        "    pop_state[i] = True\r\n",
        "  return pop_state\r\n",
        "\r\n",
        "def initialize_queue(beta, total_population, initial_infected):\r\n",
        "  q = queue.PriorityQueue()\r\n",
        "  for i in range(total_population):\r\n",
        "    for j in range(total_population):\r\n",
        "      if i != j:\r\n",
        "        infection_time = np.random.exponential(1/beta)\r\n",
        "        infection_event = Event(infection_time, 'infection', i, j)\r\n",
        "        q.put(infection_event)\r\n",
        "  \r\n",
        "  for i in range(initial_infected):\r\n",
        "    cure_time = np.random.exponential(1/gamma)\r\n",
        "    cure_event = Event(cure_time, 'cure', i)\r\n",
        "    q.put(cure_event)\r\n",
        "\r\n",
        "  return q"
      ],
      "execution_count": null,
      "outputs": []
    },
    {
      "cell_type": "code",
      "metadata": {
        "id": "cgG8udyh2XUE"
      },
      "source": [
        "# is_infected = initialize_population_state(total_population, initial_infected)\r\n",
        "# q = initialize_queue(gamma, total_population)"
      ],
      "execution_count": null,
      "outputs": []
    },
    {
      "cell_type": "code",
      "metadata": {
        "id": "iTL5khgpz6qT"
      },
      "source": [
        "def apply_infection(gamma, e, is_infected, q):\r\n",
        "  time = e.time\r\n",
        "  infector = e.x\r\n",
        "  infected = e.y\r\n",
        "\r\n",
        "  is_infected[infected] = True # Now infected\r\n",
        "\r\n",
        "  cure_time = np.random.exponential(1/gamma) # Creates random cure time\r\n",
        "  cure_event_infected = Event(e.time + cure_time, 'cure', infected) # Create Event objects\r\n",
        "  q.put(cure_event_infected) # Add events to queue\r\n",
        "\r\n",
        "  if DEBUG:\r\n",
        "    print(f\"t:{round(time, 6)} - {infector}->{infected}\")\r\n",
        "\r\n",
        "  events.append(Event(time, 'infection', infected, infector))\r\n",
        "\r\n",
        "def generate_new_infection(beta, e, q):\r\n",
        "  infection_time = e.time + np.random.exponential(1/beta)\r\n",
        "  infection_event_x_y = Event(infection_time, 'infection', e.x, e.y) \r\n",
        "  q.put(infection_event_x_y)\r\n",
        "\r\n",
        "def handle_cure(e, is_infected):\r\n",
        "  is_infected[e.x] = False \r\n",
        "  if DEBUG:\r\n",
        "      print(f\"t:{round(e.time, 6)} - {e.x} is cured\")\r\n",
        "  events.append(Event(e.time, 'cure', e.x))\r\n",
        "\r\n",
        "# def handle_infection(beta, gamma, e, is_infected, q, null_infections):    \r\n",
        "#   if is_infected[e.x] and not is_infected[e.y]:\r\n",
        "#     apply_infection(gamma, e, is_infected, q) \r\n",
        "#     if DEBUG:\r\n",
        "#       print(f\"{null_infections} events without infection\")\r\n",
        "#     null_infections = -1\r\n",
        "#   generate_new_infection(beta, e, q)\r\n",
        "#   return null_infections + 1"
      ],
      "execution_count": null,
      "outputs": []
    },
    {
      "cell_type": "code",
      "metadata": {
        "id": "1BDXrAQYBOKw"
      },
      "source": [
        "events = []\r\n",
        "\r\n",
        "def print_state_string(infected_array):\r\n",
        "  is_infected_formatted = \"\".join([str(int(i)) for i in infected_array])\r\n",
        "  print(is_infected_formatted)\r\n",
        "\r\n",
        "def simulate_epidemic(beta, gamma, total_population, initial_infected, max_time):\r\n",
        "  is_infected = initialize_population_state(total_population, initial_infected)\r\n",
        "  if DEBUG:\r\n",
        "    print_state_string(is_infected)\r\n",
        "  q = initialize_queue(beta, total_population, initial_infected)\r\n",
        "  times = []\r\n",
        "  amount_infected = []\r\n",
        "\r\n",
        "\r\n",
        "  null_infections = 0\r\n",
        "  while not q.empty():\r\n",
        "    e = q.get()\r\n",
        "    \r\n",
        "    if e.time > max_time:\r\n",
        "      return times, amount_infected\r\n",
        "    if e.event_type == 'cure':\r\n",
        "      handle_cure(e, is_infected)     \r\n",
        "      if DEBUG:\r\n",
        "        print_state_string(is_infected)\r\n",
        "    elif e.event_type == 'infection' and is_infected[e.x] and not is_infected[e.y]:   \r\n",
        "      if DEBUG:\r\n",
        "        print(f\"{null_infections} events without infection\")\r\n",
        "      null_infections = 0\r\n",
        "      apply_infection(gamma, e, is_infected, q)    \r\n",
        "      generate_new_infection(beta, e, q) \r\n",
        "      if DEBUG:\r\n",
        "        print_state_string(is_infected)\r\n",
        "    elif e.event_type == 'infection' and not is_infected[e.x] or is_infected[e.y]:\r\n",
        "      null_infections += 1\r\n",
        "      generate_new_infection(beta, e, q) \r\n",
        "\r\n",
        "    # if DEBUG:\r\n",
        "    #   print(q.qsize())\r\n",
        "\r\n",
        "    times.append(e.time)\r\n",
        "    amount_infected.append(sum(is_infected))"
      ],
      "execution_count": null,
      "outputs": []
    },
    {
      "cell_type": "code",
      "metadata": {
        "id": "Fu_wahy8R4QX"
      },
      "source": [
        "beta = 2 # beta = 2\r\n",
        "gamma = 0.5\r\n",
        "\r\n",
        "total_population = 100\r\n",
        "initial_infected = 1\r\n",
        "DEBUG = False\r\n",
        "\r\n",
        "times, amount_infected = simulate_epidemic(beta, \r\n",
        "                                          gamma, \r\n",
        "                                          total_population,\r\n",
        "                                          initial_infected,\r\n",
        "                                          0.5)"
      ],
      "execution_count": null,
      "outputs": []
    },
    {
      "cell_type": "code",
      "metadata": {
        "id": "ju1E2cSqHXKA",
        "colab": {
          "base_uri": "https://localhost:8080/",
          "height": 282
        },
        "outputId": "6745961d-97e2-4cd2-b496-ea38da1cea6a"
      },
      "source": [
        "amount_susceptible = total_population - np.array(amount_infected)\r\n",
        "new_times = np.array(times) * 10\r\n",
        "plt.plot(new_times, amount_susceptible, label='susceptible')\r\n",
        "plt.plot(new_times, amount_infected, label='infected')\r\n",
        "plt.legend()"
      ],
      "execution_count": null,
      "outputs": [
        {
          "output_type": "execute_result",
          "data": {
            "text/plain": [
              "<matplotlib.legend.Legend at 0x7f8c0e0e4390>"
            ]
          },
          "metadata": {
            "tags": []
          },
          "execution_count": 69
        },
        {
          "output_type": "display_data",
          "data": {
            "image/png": "[encoded data removed]",
            "text/plain": [
              "<Figure size 432x288 with 1 Axes>"
            ]
          },
          "metadata": {
            "tags": [],
            "needs_background": "light"
          }
        }
      ]
    },
    {
      "cell_type": "code",
      "metadata": {
        "id": "aGi3PUcJH048"
      },
      "source": [
        "# for i in range(len(times)):\r\n",
        "#   print(f\"{times[i]}:{amount_infected[i]}\")"
      ],
      "execution_count": null,
      "outputs": []
    }
  ]
}