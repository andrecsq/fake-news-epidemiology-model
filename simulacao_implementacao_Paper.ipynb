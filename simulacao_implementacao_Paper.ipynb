{
  "nbformat": 4,
  "nbformat_minor": 0,
  "metadata": {
    "colab": {
      "name": "Implementacao_Paper.ipynb",
      "provenance": [],
      "collapsed_sections": [],
      "include_colab_link": true
    },
    "kernelspec": {
      "display_name": "Python 3",
      "name": "python3"
    }
  },
  "cells": [
    {
      "cell_type": "markdown",
      "metadata": {
        "id": "view-in-github",
        "colab_type": "text"
      },
      "source": [
        "<a href=\"https://colab.research.google.com/github/andrecsq/trabalho_simulacao/blob/main/simulacao_implementacao_Paper.ipynb\" target=\"_parent\"><img src=\"https://colab.research.google.com/assets/colab-badge.svg\" alt=\"Open In Colab\"/></a>"
      ]
    },
    {
      "cell_type": "code",
      "metadata": {
        "id": "obSUDAbSit-x"
      },
      "source": [
        "import numpy as np\r\n",
        "import matplotlib.pyplot as plt"
      ],
      "execution_count": null,
      "outputs": []
    },
    {
      "cell_type": "markdown",
      "metadata": {
        "id": "IHIQe1QOsRN1"
      },
      "source": [
        "Solução Analítica"
      ]
    },
    {
      "cell_type": "code",
      "metadata": {
        "id": "HBIbVzfim6zd"
      },
      "source": [
        "beta = 2\r\n",
        "gamma = 1.5\r\n",
        "total_population = 100\r\n",
        "time_steps = 50\r\n",
        "initial_infected = 1\r\n",
        "\r\n",
        "I_inf = (1- gamma/beta)*total_population\r\n",
        "V = I_inf/initial_infected - 1\r\n",
        "x = beta - gamma\r\n",
        "\r\n",
        "def I(t):\r\n",
        "  return I_inf / (1 + V*np.exp(-x*t) )\r\n",
        "\r\n",
        "infected_analytic = np.array([I(t) for t in range(0, time_steps)])\r\n",
        "susceptible_analytic = total_population - infected_analytic"
      ],
      "execution_count": null,
      "outputs": []
    },
    {
      "cell_type": "code",
      "metadata": {
        "colab": {
          "base_uri": "https://localhost:8080/",
          "height": 282
        },
        "id": "Nu7qBH8an4zl",
        "outputId": "f67130a1-1a6b-4fdc-98ad-520403ff5122"
      },
      "source": [
        "plt.plot(susceptible_analytic, label='susceptible')\r\n",
        "plt.plot(infected_analytic, label='infected')\r\n",
        "plt.legend()"
      ],
      "execution_count": null,
      "outputs": [
        {
          "output_type": "execute_result",
          "data": {
            "text/plain": [
              "<matplotlib.legend.Legend at 0x7fc631d2bed0>"
            ]
          },
          "metadata": {
            "tags": []
          },
          "execution_count": 111
        },
        {
          "output_type": "display_data",
          "data": {
            "image/png": "[encoded data removed]",
            "text/plain": [
              "<Figure size 432x288 with 1 Axes>"
            ]
          },
          "metadata": {
            "tags": [],
            "needs_background": "light"
          }
        }
      ]
    },
    {
      "cell_type": "markdown",
      "metadata": {
        "id": "VTRWhbNlsTMq"
      },
      "source": [
        "## Implementação Eventos"
      ]
    },
    {
      "cell_type": "code",
      "metadata": {
        "id": "O4OOP338sWDj"
      },
      "source": [
        "import queue\r\n",
        "from dataclasses import dataclass, field\r\n",
        "\r\n",
        "@dataclass(order=True)\r\n",
        "class Event:\r\n",
        "  time: float\r\n",
        "  event_type: str=field(compare=False)\r\n",
        "  target: int=field(compare=False)\r\n",
        "  source: int=field(compare=False, default=None)\r\n",
        "\r\n",
        "@dataclass\r\n",
        "class Node:\r\n",
        "  id: int\r\n",
        "  is_infected: bool\r\n",
        "  rec_time: float"
      ],
      "execution_count": null,
      "outputs": []
    },
    {
      "cell_type": "code",
      "metadata": {
        "id": "tcDZ-2ODtdPc"
      },
      "source": [
        "def initialize_population_state(total_population):\r\n",
        "  pop_state = []\r\n",
        "  for i in range(total_population):\r\n",
        "    ns = Node(i, False, 0)\r\n",
        "    pop_state.append(ns)\r\n",
        "  return pop_state\r\n",
        "\r\n",
        "def initialize_queue(total_population, initial_infected):\r\n",
        "  q = queue.PriorityQueue()\r\n",
        "  for i in range(initial_infected):\r\n",
        "    transmission_event = Event(0, 'transmission', i, i)\r\n",
        "    q.put(transmission_event)\r\n",
        "  return q"
      ],
      "execution_count": null,
      "outputs": []
    },
    {
      "cell_type": "code",
      "metadata": {
        "id": "iTL5khgpz6qT"
      },
      "source": [
        "def process_trans_SIS(time, node_list, q, beta, gamma, target_node):\r\n",
        "  \r\n",
        "  # Infect the node and set recuperation time\r\n",
        "  target_node.is_infected = True\r\n",
        "  rec_time = time + np.random.exponential(gamma)\r\n",
        "  target_node.rec_time = rec_time\r\n",
        "  node_list[target_node.id] = target_node\r\n",
        "\r\n",
        "  # Create the cure event\r\n",
        "  cure_event = Event(rec_time, 'cure', target_node.id)\r\n",
        "  q.put(cure_event)\r\n",
        "\r\n",
        "  # Infect all neighbours\r\n",
        "  source_node = target_node # Target of transmission is now the source of transmission\r\n",
        "  for neighbour in node_list:\r\n",
        "    if neighbour.id != source_node.id:\r\n",
        "      target_node = neighbour # The neighbour is the new recipient\r\n",
        "      find_next_trans_SIS(time, node_list, q, beta, gamma, source_node, target_node)\r\n",
        "\r\n",
        "# Checks if the target WILL BE susceptible and the source will be infected at the time of the contamination\r\n",
        "def find_next_trans_SIS(time, node_list, q, beta, gamma, source_node, target_node):\r\n",
        "  # Checks if: target_rec_time <= transmission_time < source_rec_time\r\n",
        "  if target_node.rec_time < source_node.rec_time:\r\n",
        "    # O evento de infecção só \"conta\" depois que o target está suscetível\r\n",
        "    transmission_time = max(time, target_node.rec_time) + np.random.exponential(beta)\r\n",
        "    if transmission_time < source_node.rec_time:\r\n",
        "      new_trans = Event(transmission_time, 'transmission', target_node.id, source_node.id)\r\n",
        "      q.put(new_trans)\r\n",
        "\r\n",
        "def process_rec_SIS(time, node_list, target_node):\r\n",
        "  node_list[target_node.id].is_infected = False \r\n",
        "  events.append(Event(time, 'cure', target_node.id))\r\n",
        "\r\n",
        "def get_number_infected(node_list):\r\n",
        "  return sum([node.is_infected for node in node_list])"
      ],
      "execution_count": null,
      "outputs": []
    },
    {
      "cell_type": "code",
      "metadata": {
        "id": "1BDXrAQYBOKw"
      },
      "source": [
        "events = []\r\n",
        "  \r\n",
        "def simulate_epidemic(beta, gamma, total_population, initial_infected, max_time):\r\n",
        "  node_list = initialize_population_state(total_population)\r\n",
        "  q = initialize_queue(total_population, initial_infected)\r\n",
        "  times = []\r\n",
        "  amount_infected = []\r\n",
        "\r\n",
        "\r\n",
        "  null_infections = 0\r\n",
        "  while not q.empty():\r\n",
        "    e = q.get()\r\n",
        "    \r\n",
        "    if e.time > max_time:\r\n",
        "      return times, amount_infected\r\n",
        "    if e.event_type == 'cure':\r\n",
        "      target_node = node_list[e.target]\r\n",
        "      process_rec_SIS(e.time, node_list, target_node)\r\n",
        "    elif e.event_type == 'transmission':\r\n",
        "      target_node = node_list[e.target]\r\n",
        "      source_node = node_list[e.source]\r\n",
        "      if not target_node.is_infected:\r\n",
        "        process_trans_SIS(e.time, node_list, q, beta, gamma, target_node)\r\n",
        "        events.append(Event(e.time, 'transmission', e.target, e.source))\r\n",
        "      find_next_trans_SIS(e.time, node_list, q, beta, gamma, source_node, target_node)\r\n",
        "\r\n",
        "    times.append(e.time)\r\n",
        "    infected = get_number_infected(node_list)\r\n",
        "    amount_infected.append(infected)\r\n",
        "\r\n",
        "    if infected == 0:\r\n",
        "      break\r\n",
        "  \r\n",
        "  return times, amount_infected"
      ],
      "execution_count": null,
      "outputs": []
    },
    {
      "cell_type": "code",
      "metadata": {
        "id": "Fu_wahy8R4QX"
      },
      "source": [
        "total_population = 500\r\n",
        "initial_infected = 10\r\n",
        "max_time = 0.5\r\n",
        "\r\n",
        "beta = 0.5\r\n",
        "gamma = 0.3"
      ],
      "execution_count": null,
      "outputs": []
    },
    {
      "cell_type": "code",
      "metadata": {
        "id": "mry25uMuq8QX"
      },
      "source": [
        "times, amount_infected = simulate_epidemic(beta, \r\n",
        "                                          gamma, \r\n",
        "                                          total_population,\r\n",
        "                                          initial_infected,\r\n",
        "                                          max_time)"
      ],
      "execution_count": null,
      "outputs": []
    },
    {
      "cell_type": "code",
      "metadata": {
        "id": "7yKRCdyutyFM"
      },
      "source": [
        "#for event in events:\r\n",
        "  #print(event)"
      ],
      "execution_count": null,
      "outputs": []
    },
    {
      "cell_type": "code",
      "metadata": {
        "id": "ju1E2cSqHXKA",
        "colab": {
          "base_uri": "https://localhost:8080/",
          "height": 282
        },
        "outputId": "8f3f45a3-0f3c-494e-bb19-2486ee204e71"
      },
      "source": [
        "amount_susceptible = total_population - np.array(amount_infected)\r\n",
        "new_times = np.array(times) * 10\r\n",
        "plt.plot(new_times, amount_susceptible, label='susceptible')\r\n",
        "plt.plot(new_times, amount_infected, label='infected')\r\n",
        "plt.legend()"
      ],
      "execution_count": null,
      "outputs": [
        {
          "output_type": "execute_result",
          "data": {
            "text/plain": [
              "<matplotlib.legend.Legend at 0x7fc62b6152d0>"
            ]
          },
          "metadata": {
            "tags": []
          },
          "execution_count": 119
        },
        {
          "output_type": "display_data",
          "data": {
            "image/png": "[encoded data removed]",
            "text/plain": [
              "<Figure size 432x288 with 1 Axes>"
            ]
          },
          "metadata": {
            "tags": [],
            "needs_background": "light"
          }
        }
      ]
    },
    {
      "cell_type": "code",
      "metadata": {
        "id": "a-s2KALErbQ6"
      },
      "source": [
        "# for event in events:\r\n",
        "#   print(event)"
      ],
      "execution_count": null,
      "outputs": []
    },
    {
      "cell_type": "code",
      "metadata": {
        "id": "xQhHBJY2RZhR"
      },
      "source": [
        "# Input: Network G, transmission rate per edge τ, recovery rate γ, set of index node(s)\r\n",
        "#   initial infecteds, and maximum time tmax.\r\n",
        "# Output: t: list of times and I: list containing number infected at each time.\r\n",
        "\r\n",
        "# function fast_SIS(G,τ, γ, initial infecteds, tmax)\r\n",
        "#   initialise Q, node statuses and return variables as in fast SIR, but include a source for infections with recovery time 0.\r\n",
        "#   while Q is not empty do\r\n",
        "#     Event ← earliest remaining event in Q\r\n",
        "#     if Event.action is transmit then\r\n",
        "#       if Event.node.status is susceptible then\r\n",
        "#         process_trans_SIS(G, Event.node, Event.time, τ, γ, times, S, I, Q, tmax) \r\n",
        "#       find_next_trans_SIS(Q, Event.source, Event.node, t)  # needed for SIS model <--- Não entendi isso. Por que ele transmite de novo?\r\n",
        "#     else\r\n",
        "#       process rec_SIS(Event.node, t, S, I) # Apenas recupera o node\r\n",
        "#   return times, S, I\r\n",
        "\r\n",
        "# function process_trans_SIS(G, u, t, τ, γ, times, S, I, Q, tmax)\r\n",
        "#   append_times, S, and I with t, S.last−1, and I.last+1\r\n",
        "#   u.status ← infected\r\n",
        "#   u.rec_time ← t+exponential variate(γ)\r\n",
        "#   if u.rec_time < tmax then\r\n",
        "#     newEvent ← {node: u, time: u.rec_time, action: recover}\r\n",
        "#     push(Q, newEvent)\r\n",
        "#   for v in G.neighbours(u) do\r\n",
        "#     find_next_trans_SIS(Q, t, τ, u, v, tmax)\r\n",
        "\r\n",
        "# function find_next_trans_SIS(Q, t, τ, source, target, tmax)\r\n",
        "#   - Se o alvo se recuperar antes da fonte\r\n",
        "#   if target.rec_time < source.rec_time then\r\n",
        "#     transmission_time = max(t, target.rec_time)+exponential_variate(τ) \r\n",
        "#     if transmission_time < source.rec_time then # E o tempo da transmissão é antes da fonte se recuperar\r\n",
        "#       newEvent ← {node: target, time: transmission_time, action: transmit, source: source} \r\n",
        "#       push(Q, newEvent) # cria novo evento de transmissão\r\n",
        "\r\n",
        "# function process_rec_SIS(u, times, S, I)\r\n",
        "#   append times, S, and I with t, S.last+1, and I.last−1\r\n",
        "#   u.status ← susceptible"
      ],
      "execution_count": null,
      "outputs": []
    }
  ]
}