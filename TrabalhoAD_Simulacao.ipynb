{
  "nbformat": 4,
  "nbformat_minor": 0,
  "metadata": {
    "colab": {
      "name": "TrabalhoAD_Simulacao.ipynb",
      "provenance": [],
      "collapsed_sections": [],
      "include_colab_link": true
    },
    "kernelspec": {
      "display_name": "Python 3",
      "name": "python3"
    }
  },
  "cells": [
    {
      "cell_type": "markdown",
      "metadata": {
        "id": "view-in-github",
        "colab_type": "text"
      },
      "source": [
        "<a href=\"https://colab.research.google.com/github/andrecsq/trabalho_simulacao/blob/main/TrabalhoAD_Simulacao.ipynb\" target=\"_parent\"><img src=\"https://colab.research.google.com/assets/colab-badge.svg\" alt=\"Open In Colab\"/></a>"
      ]
    },
    {
      "cell_type": "code",
      "metadata": {
        "id": "obSUDAbSit-x"
      },
      "source": [
        "import numpy as np\r\n",
        "import matplotlib.pyplot as plt\r\n",
        "import matplotlib"
      ],
      "execution_count": 1,
      "outputs": []
    },
    {
      "cell_type": "markdown",
      "metadata": {
        "id": "VTRWhbNlsTMq"
      },
      "source": [
        "## Implementação Eventos"
      ]
    },
    {
      "cell_type": "code",
      "metadata": {
        "id": "O4OOP338sWDj"
      },
      "source": [
        "import queue\r\n",
        "from dataclasses import dataclass, field\r\n",
        "\r\n",
        "@dataclass(order=True)\r\n",
        "class Event:\r\n",
        "  time: float\r\n",
        "  event_type: str=field(compare=False)"
      ],
      "execution_count": 2,
      "outputs": []
    },
    {
      "cell_type": "code",
      "metadata": {
        "id": "tcDZ-2ODtdPc"
      },
      "source": [
        "def generate_infection(t, rate, infected, population):\r\n",
        "    susceptible = population - infected\r\n",
        "    beta_i = rate * infected * susceptible / population\r\n",
        "    infection_time = np.random.exponential(1/beta_i) \r\n",
        "    infection_event = Event(t + infection_time, 'infection')\r\n",
        "    return infection_event\r\n",
        "\r\n",
        "def generate_cure(t, rate, infected):\r\n",
        "    gamma_i = rate * infected\r\n",
        "    cure_time = np.random.exponential(1/gamma_i) \r\n",
        "    cure_event = Event(t + cure_time, 'cure')\r\n",
        "    return cure_event\r\n",
        "\r\n",
        "def initialize_queue(initial_beta, initial_gamma, total_population, initial_infected):\r\n",
        "  q = queue.PriorityQueue()\r\n",
        "\r\n",
        "  for i in range(initial_infected):\r\n",
        "    q.put(generate_cure(0, initial_gamma, initial_infected))\r\n",
        "    q.put(generate_infection(0, initial_beta, initial_infected, total_population))\r\n",
        "  \r\n",
        "  return q"
      ],
      "execution_count": 3,
      "outputs": []
    },
    {
      "cell_type": "code",
      "metadata": {
        "id": "1BDXrAQYBOKw",
        "outputId": "f2f98923-8bcb-40d4-88bf-6791ee7d9a79",
        "colab": {
          "base_uri": "https://localhost:8080/",
          "height": 128
        }
      },
      "source": [
        "def simulate_epidemic(initial_beta, initial_gamma, total_population, initial_infected, max_time):\r\n",
        "  q = initialize_queue(initial_beta, initial_gamma, total_population, initial_infected)\r\n",
        "  curr_infected = initial_infected\r\n",
        "  curr_time = 0\r\n",
        "  times = []\r\n",
        "  amount_infected = []\r\n",
        "\r\n",
        "\r\n",
        "  # 2 elementos:\r\n",
        "  # cura\r\n",
        "  # infecção <-\r\n",
        "\r\n",
        "  while not q.empty(): \r\n",
        "    e = q.get() # Event(time=float, event_type=enum('cure', 'infection'))\r\n",
        "    curr_time = e.time\r\n",
        "    \r\n",
        "    # se tem 0 infectados ou passou o tempo, retorna\r\n",
        "    if curr_infected == 0 or e.time > max_time: \r\n",
        "      return times, amount_infected\r\n",
        "    elif e.event_type == 'infection' and curr_infected < total_population:\r\n",
        "      # Aqui sabemos que, caso toda a população esteja infectada, \r\n",
        "      # não é mais agendado evento de infecção\r\n",
        "      curr_infected += 1\r\n",
        "      q.put(generate_infection(curr_time, initial_beta, curr_infected, total_population))\r\n",
        "    elif e.event_type == 'cure':\r\n",
        "      # Quando infectamos a população inteira, além da cura, também geramos\r\n",
        "      # Um novo evento de infecção é gerado SE o evento de infecção acima não estiver agendado\r\n",
        "      if curr_infected == total_population and q.empty():\r\n",
        "        q.put(generate_infection(curr_time, initial_beta, curr_infected - 1, total_population))\r\n",
        "      curr_infected -= 1\r\n",
        "      q.put(generate_cure(curr_time, initial_gamma, curr_infected))\r\n",
        "\r\n",
        "    times.append(e.time)\r\n",
        "    amount_infected.append(curr_infected)\r\n",
        "\r\n",
        "  return times, amount_infected"
      ],
      "execution_count": 4,
      "outputs": [
        {
          "output_type": "error",
          "ename": "SyntaxError",
          "evalue": "ignored",
          "traceback": [
            "\u001b[0;36m  File \u001b[0;32m\"<ipython-input-4-f157ef43ff05>\"\u001b[0;36m, line \u001b[0;32m19\u001b[0m\n\u001b[0;31m    return times, amount_infected\u001b[0m\n\u001b[0m    ^\u001b[0m\n\u001b[0;31mSyntaxError\u001b[0m\u001b[0;31m:\u001b[0m 'return' outside function\n"
          ]
        }
      ]
    },
    {
      "cell_type": "code",
      "metadata": {
        "id": "Fu_wahy8R4QX"
      },
      "source": [
        "beta = 0.5\r\n",
        "gamma = 0.1\r\n",
        "\r\n",
        "total_population = 200\r\n",
        "initial_infected = 10\r\n",
        "max_time = 50\r\n",
        "\r\n",
        "num_simulations = 10\r\n"
      ],
      "execution_count": null,
      "outputs": []
    },
    {
      "cell_type": "code",
      "metadata": {
        "id": "ju1E2cSqHXKA"
      },
      "source": [
        "total_infected_all = []\r\n",
        "total_infected_stationary = []\r\n",
        "\r\n",
        "for i in range(num_simulations):\r\n",
        "  events = []\r\n",
        "\r\n",
        "  times, amount_infected = simulate_epidemic(beta, \r\n",
        "                                             gamma, \r\n",
        "                                             total_population,\r\n",
        "                                             initial_infected,\r\n",
        "                                             max_time)\r\n",
        "  amount_susceptible = total_population - np.array(amount_infected)\r\n",
        "  new_times = np.array(times)\r\n",
        "\r\n",
        "  total_infected_all += amount_infected\r\n",
        "  total_infected_stationary += amount_infected[5000:]\r\n",
        "\r\n",
        "  random_color = c=np.random.rand(3,)\r\n",
        "  fig = matplotlib.pyplot.gcf()\r\n",
        "  fig.set_size_inches(15, 5)\r\n",
        "\r\n",
        "  linewidth = 0.5\r\n",
        "  plt.plot(new_times, amount_susceptible, color=random_color, linewidth=linewidth)\r\n",
        "  plt.plot(new_times, amount_infected, color=random_color, linewidth=linewidth)\r\n"
      ],
      "execution_count": null,
      "outputs": []
    },
    {
      "cell_type": "code",
      "metadata": {
        "id": "ttTiJGTCUmL3"
      },
      "source": [
        "sample_avg = np.average(total_infected_all)\r\n",
        "sample_std = np.std(total_infected_all)\r\n",
        "n_samples = len(total_infected_all)\r\n",
        "\r\n",
        "dec = 2\r\n",
        "print(f\"Average: {round(sample_avg, dec)}\")\r\n",
        "print(f\"Std Deviation: {round(sample_std, dec)}\")\r\n",
        "ls = sample_avg + 1.96 * sample_std / (n_samples)**(1/2) \r\n",
        "li = sample_avg - 1.96 * sample_std / (n_samples)**(1/2)\r\n",
        "print(f\"Conf Interval (95%): ({round(li, dec)}, {round(ls, dec)})\")"
      ],
      "execution_count": null,
      "outputs": []
    },
    {
      "cell_type": "code",
      "metadata": {
        "id": "2pX25UjOYcZ6"
      },
      "source": [
        "sample_avg = np.average(total_infected_stationary)\r\n",
        "sample_std = np.std(total_infected_stationary)\r\n",
        "n_samples = len(total_infected_stationary)\r\n",
        "\r\n",
        "dec = 2\r\n",
        "print(f\"Average: {round(sample_avg, dec)}\") \r\n",
        "print(f\"Std Deviation: {round(sample_std, dec)}\")\r\n",
        "ls = sample_avg + 1.96 * sample_std / (n_samples)**(1/2) \r\n",
        "li = sample_avg - 1.96 * sample_std / (n_samples)**(1/2)\r\n",
        "print(f\"Conf Interval (95%): ({round(li, dec)}, {round(ls, dec)})\")"
      ],
      "execution_count": null,
      "outputs": []
    }
  ]
}