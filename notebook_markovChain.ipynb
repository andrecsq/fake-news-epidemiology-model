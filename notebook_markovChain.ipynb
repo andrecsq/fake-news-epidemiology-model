{
  "nbformat": 4,
  "nbformat_minor": 0,
  "metadata": {
    "colab": {
      "name": "Trabalho AD.ipynb",
      "provenance": [],
      "collapsed_sections": []
    },
    "kernelspec": {
      "name": "python3",
      "display_name": "Python 3"
    }
  },
  "cells": [
    {
      "cell_type": "code",
      "metadata": {
        "id": "aQ4lFYN7JyFz"
      },
      "source": [
        "import numpy as np\r\n",
        "from scipy.linalg import expm\r\n",
        "import matplotlib.pyplot as plt\r\n",
        "import math"
      ],
      "execution_count": 2,
      "outputs": []
    },
    {
      "cell_type": "code",
      "metadata": {
        "id": "og8xqxaLT6ce"
      },
      "source": [
        "def diagonalized(Q, t):\r\n",
        "  (eigenvalues, S) = np.linalg.eig(Q)\r\n",
        "  D = np.identity(len(eigenvalues))\r\n",
        "  for i in range(len(eigenvalues)):\r\n",
        "    D[i,i] = eigenvalues[i]\r\n",
        "  P = np.matmul(S, expm(t*D))\r\n",
        "  P = np.matmul(P, np.linalg.inv(S))\r\n",
        "  return P"
      ],
      "execution_count": null,
      "outputs": []
    },
    {
      "cell_type": "code",
      "metadata": {
        "id": "gMEREy5uemKX"
      },
      "source": [
        "## Loop de simulação usando Q. A princípio ignorar\r\n",
        "def simulate(Q, max_t, n, t=1, infected=1, history=[]):\r\n",
        "  history.append(infected)\r\n",
        "  if t>=max_t:\r\n",
        "    return history\r\n",
        "  P = expm(t*Q)\r\n",
        "  new_infected = np.random.choice(range(n), p=P[infected,:])\r\n",
        "  return simulate(Q, max_t, n, t+1, new_infected, history)"
      ],
      "execution_count": 7,
      "outputs": []
    },
    {
      "cell_type": "markdown",
      "metadata": {
        "id": "pftHVmoSpCyp"
      },
      "source": [
        "$\\beta =infection\\ rate, \\gamma =recovery\\ rate, N=total\\ population$\r\n",
        "\r\n",
        "$b(j)=\\frac{\\beta i(N-i)}{N}$\r\n",
        "\r\n",
        "$d(j)=\\gamma i$\r\n",
        "\r\n",
        "$\r\n",
        "  Q_{i,j} = \r\n",
        "     \\begin{cases}\r\n",
        "      0,\\text{ if }i=0 \\\\\r\n",
        "      b(i),\\text{ if }j=i+1 \\\\\r\n",
        "      d(i),\\text{ if }j=i-1 \\\\\r\n",
        "      1-(b(i)+d(i)),\\text{ if }j=i\r\n",
        "     \\end{cases}\r\n",
        "$\r\n",
        "\r\n",
        "Falta o $\\varepsilon=$taxa de infecção exógena? Professor disse que não pode ser 0 para a cadeia ser ergódica..."
      ]
    },
    {
      "cell_type": "code",
      "metadata": {
        "id": "nm-o91cpGI8S"
      },
      "source": [
        "beta = 0.5\r\n",
        "gama = 0.1\r\n",
        "epsilon = 0.01 #Usar epsilon ou não??\r\n",
        "n = 500\r\n",
        "max_t = 50\r\n",
        "\r\n",
        "Q = np.zeros((n, n))\r\n",
        "\r\n",
        "for i in range(1, n):\r\n",
        "  for j in range(n):\r\n",
        "    b = beta*i*(n-i)/n\r\n",
        "    d = gama*i\r\n",
        "    if j==i-1:\r\n",
        "      Q[i,j]=d\r\n",
        "    elif j==i+1:\r\n",
        "      Q[i,j]=b\r\n",
        "\r\n",
        "for i in range(1, n):\r\n",
        "  Q[i,i] = -sum(Q[i,:])"
      ],
      "execution_count": 90,
      "outputs": []
    },
    {
      "cell_type": "markdown",
      "metadata": {
        "id": "-Ox7AUjhuW8T"
      },
      "source": [
        "$P(t) = e^{tQ}$\r\n",
        "\r\n",
        "A função de transição $P(t)$ é usada para calcular o valor esperado de $X_t$.\r\n",
        "\r\n",
        "$E(X_t|X_{t-1}=i) = \\sum_{j=1}^{n}{j*P(X_t=j|X_{t-1}=i)}$"
      ]
    },
    {
      "cell_type": "code",
      "metadata": {
        "colab": {
          "base_uri": "https://localhost:8080/",
          "height": 302
        },
        "id": "33HTGJSNjmnG",
        "outputId": "f31c8c25-9895-4bf3-d837-3340377cd53a"
      },
      "source": [
        "def meanLoop(Q, max_t, n, t=1, infected=1, history=[], times=[]):\r\n",
        "  history.append(infected)\r\n",
        "  times.append(t)\r\n",
        "  if t>=max_t:\r\n",
        "    return (history, times)\r\n",
        "  # P(t) = e^{tQ}\r\n",
        "  # A função de transição P(t) é usada para calcular o valor esperado de X_t\r\n",
        "  P = expm(t*Q)\r\n",
        "\r\n",
        "  # E(X_t|X_{t-1}=i) = sum{ j*P(X_t=j|X_{t-1}=i) }\r\n",
        "  # Aqui, arrendondamos para baixo o número atual de infectados (i) porque não existe uma pessoal parcialmente infectada\r\n",
        "  terms = [j * P[math.floor(infected),j] for j in range(n)]\r\n",
        "  expected_value = sum(terms)\r\n",
        "  # Usamos o valor esperado calculado para calcular para t+1\r\n",
        "  return meanLoop(Q, max_t, n, t+1, expected_value, history, times)\r\n",
        "\r\n",
        "(history, times) = meanLoop(Q, max_t, n, t=1, infected=1, history=[])\r\n",
        "\r\n",
        "print(history)\r\n",
        "susceptible=[n-i for i in history]\r\n",
        "\r\n",
        "plt.plot(times, history, 'r')\r\n",
        "plt.plot(times, susceptible, 'b')\r\n",
        "plt.show()"
      ],
      "execution_count": 108,
      "outputs": [
        {
          "output_type": "stream",
          "text": [
            "[1, 1.4894821216727314, 2.2152402098982753, 6.537375914201826, 27.83645781317352, 138.24271818812264, 340.5702024842525, 395.49810563167216, 399.56111563474036, 399.7350931790427, 399.7397220803758, 399.74280696841606, 399.74486803728354, 399.7462474344585, 399.74717168795445, 399.7477914642391, 399.7482072887041, 399.7484863769558, 399.7486737376215, 399.74879953931935, 399.74888401710535, 399.7489407494442, 399.7489788508956, 399.749004440732, 399.74902162768706, 399.74903317142946, 399.74904092470365, 399.74904613231894, 399.7490496300444, 399.749051979373, 399.7490535573867, 399.74905461726814, 399.74905532906166, 399.7490558071996, 399.74905612844407, 399.7490563441046, 399.74905648906037, 399.7490565863215, 399.7490566517446, 399.74905669568716, 399.74905672510624, 399.7490567447915, 399.74905675811556, 399.7490567670336, 399.7490567730733, 399.7490567772327, 399.74905677993775, 399.7490567817035, 399.7490567827857, 399.74905678374057]\n"
          ],
          "name": "stdout"
        },
        {
          "output_type": "display_data",
          "data": {
            "image/png": "[encoded data removed]",
            "text/plain": [
              "<Figure size 432x288 with 1 Axes>"
            ]
          },
          "metadata": {
            "tags": [],
            "needs_background": "light"
          }
        }
      ]
    },
    {
      "cell_type": "code",
      "metadata": {
        "colab": {
          "base_uri": "https://localhost:8080/",
          "height": 302
        },
        "id": "aEH4DVn7xAGE",
        "outputId": "e5ef43a7-9131-4edd-dfd1-af083fc4806a"
      },
      "source": [
        "history=simulate(Q, max_t, n, t=1, infected=1, history=[])\r\n",
        "print(history)\r\n",
        "susceptible=[n-i for i in history]\r\n",
        "\r\n",
        "plt.plot(range(1,max_t+1), history, 'r')\r\n",
        "plt.plot(range(1,max_t+1), susceptible, 'b')\r\n",
        "plt.show()"
      ],
      "execution_count": 55,
      "outputs": [
        {
          "output_type": "stream",
          "text": [
            "[1, 1, 3, 3, 3, 3, 3, 3, 3, 0, 0, 0, 0, 0, 0, 0, 0, 0, 0, 0, 0, 0, 0, 0, 0, 0, 0, 0, 0, 0, 0, 0, 0, 0, 0, 0, 0, 0, 0, 0, 0, 0, 0, 0, 0, 0, 0, 0, 0, 0, 0, 0, 0, 0, 0, 0, 0, 0, 0, 0, 0, 0, 0, 0, 0, 0, 0, 0, 0, 0, 0, 0, 0, 0, 0, 0, 0, 0, 0, 0, 0, 0, 0, 0, 0, 0, 0, 0, 0, 0, 0, 0, 0, 0, 0, 0, 0, 0, 0, 0]\n"
          ],
          "name": "stdout"
        },
        {
          "output_type": "display_data",
          "data": {
            "image/png": "[encoded data removed]",
            "text/plain": [
              "<Figure size 432x288 with 1 Axes>"
            ]
          },
          "metadata": {
            "tags": [],
            "needs_background": "light"
          }
        }
      ]
    }
  ]
}