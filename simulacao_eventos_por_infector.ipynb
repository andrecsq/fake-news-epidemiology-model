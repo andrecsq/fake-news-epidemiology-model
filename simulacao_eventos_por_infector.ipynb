{
  "nbformat": 4,
  "nbformat_minor": 0,
  "metadata": {
    "colab": {
      "name": "simulacao_eventos_por_infector.ipynb",
      "provenance": [],
      "collapsed_sections": [],
      "include_colab_link": true
    },
    "kernelspec": {
      "display_name": "Python 3",
      "name": "python3"
    }
  },
  "cells": [
    {
      "cell_type": "markdown",
      "metadata": {
        "id": "view-in-github",
        "colab_type": "text"
      },
      "source": [
        "<a href=\"https://colab.research.google.com/github/andrecsq/trabalho_simulacao/blob/main/simulacao_eventos_por_infector.ipynb\" target=\"_parent\"><img src=\"https://colab.research.google.com/assets/colab-badge.svg\" alt=\"Open In Colab\"/></a>"
      ]
    },
    {
      "cell_type": "code",
      "metadata": {
        "id": "obSUDAbSit-x"
      },
      "source": [
        "import numpy as np\r\n",
        "import matplotlib.pyplot as plt"
      ],
      "execution_count": null,
      "outputs": []
    },
    {
      "cell_type": "markdown",
      "metadata": {
        "id": "VTRWhbNlsTMq"
      },
      "source": [
        "## Implementação Eventos Intermitentes por Infector"
      ]
    },
    {
      "cell_type": "code",
      "metadata": {
        "id": "O4OOP338sWDj"
      },
      "source": [
        "import queue\r\n",
        "from dataclasses import dataclass, field\r\n",
        "\r\n",
        "@dataclass(order=True)\r\n",
        "class Event:\r\n",
        "  time: float\r\n",
        "  event_type: str=field(compare=False)\r\n",
        "  source: int=field(compare=False)\r\n",
        "  target: int=field(compare=False, default=None)"
      ],
      "execution_count": null,
      "outputs": []
    },
    {
      "cell_type": "code",
      "metadata": {
        "id": "tcDZ-2ODtdPc"
      },
      "source": [
        "def generate_new_infection(t, rate, node):\r\n",
        "    infection_time = np.random.exponential(1/rate) \r\n",
        "    infection_event = Event(t + infection_time, 'infection', node)\r\n",
        "    return infection_event\r\n",
        "\r\n",
        "def initialize_queue_and_rec_time(rate_trans, gamma, total_population, initial_infected):\r\n",
        "  q = queue.PriorityQueue()\r\n",
        "  rec_time = [0] * total_population\r\n",
        "\r\n",
        "  for i in range(initial_infected):\r\n",
        "    cure_time = np.random.exponential(1/gamma)\r\n",
        "    q.put(generate_new_infection(0, rate_trans, i))\r\n",
        "    cure_event = Event(cure_time, 'cure', i)\r\n",
        "    q.put(cure_event)\r\n",
        "    rec_time[i] = cure_time    \r\n",
        "\r\n",
        "  # VEZES A PROBABILIDADE DE SER UM SUSCETIVEL\r\n",
        "  \r\n",
        "  return q, rec_time"
      ],
      "execution_count": null,
      "outputs": []
    },
    {
      "cell_type": "code",
      "metadata": {
        "id": "iTL5khgpz6qT"
      },
      "source": [
        "def is_infection_sucessful(rate_trans, gamma, q, t, population, rec_time, node):\r\n",
        "\r\n",
        "  new_infected = np.random.randint(population)\r\n",
        "  \r\n",
        "  # se o contato aleatório que eu escolhi está suscetível\r\n",
        "  if rec_time[new_infected] < t: \r\n",
        "    # asdfsdfds\r\n",
        "    cure_time = np.random.exponential(1/gamma)\r\n",
        "    q.put(generate_new_infection(t, rate_trans, new_infected))\r\n",
        "    cure_event = Event(t + cure_time, 'cure', new_infected) \r\n",
        "    q.put(cure_event)\r\n",
        "    rec_time[new_infected] = t + cure_time\r\n",
        "    events.append(Event(t, 'infected', new_infected, node))\r\n",
        "\r\n",
        "    return True\r\n",
        "  return False"
      ],
      "execution_count": null,
      "outputs": []
    },
    {
      "cell_type": "code",
      "metadata": {
        "id": "iQwL7gWFBuW7"
      },
      "source": [
        "def simulate_epidemic(rate_trans, gamma, total_population, initial_infected, max_time):\r\n",
        "  q, rec_time = initialize_queue_and_rec_time(rate_trans, gamma, total_population, initial_infected)\r\n",
        "  curr_infected = initial_infected\r\n",
        "  curr_time = 0\r\n",
        "  times = []\r\n",
        "  amount_infected = []\r\n",
        "\r\n",
        "  while not q.empty():\r\n",
        "    e = q.get()\r\n",
        "    curr_time = e.time\r\n",
        "    \r\n",
        "    if e.time > max_time:\r\n",
        "      return times, amount_infected\r\n",
        "    if e.event_type == 'cure':\r\n",
        "      ##events.append(Event(curr_time, 'cure', e.source))\r\n",
        "      curr_infected -= 1\r\n",
        "    elif e.event_type == 'infection':\r\n",
        "      if curr_time < rec_time[e.source]: # checa se o nó ainda está infectado\r\n",
        "        curr_infected += is_infection_sucessful(rate_trans, gamma, q, curr_time, total_population, rec_time, e.source)\r\n",
        "        q.put(generate_new_infection(curr_time, rate_trans, e.source))\r\n",
        "\r\n",
        "    times.append(e.time)\r\n",
        "    amount_infected.append(curr_infected)\r\n",
        "\r\n",
        "    if curr_infected == 0:\r\n",
        "      break\r\n",
        "  \r\n",
        "  return times, amount_infected"
      ],
      "execution_count": null,
      "outputs": []
    },
    {
      "cell_type": "code",
      "metadata": {
        "id": "Fu_wahy8R4QX"
      },
      "source": [
        "contacts_per_unit_time = 50\r\n",
        "rate_transmission = 0.5\r\n",
        "\r\n",
        "gamma = 0.1\r\n",
        "\r\n",
        "total_population = 2000\r\n",
        "initial_infected = 10\r\n",
        "max_time = 200"
      ],
      "execution_count": null,
      "outputs": []
    },
    {
      "cell_type": "code",
      "metadata": {
        "id": "mry25uMuq8QX"
      },
      "source": [
        "events = []\r\n",
        "times, amount_infected = simulate_epidemic(rate_transmission, \r\n",
        "                                          gamma, \r\n",
        "                                          total_population,\r\n",
        "                                          initial_infected,\r\n",
        "                                          max_time)"
      ],
      "execution_count": null,
      "outputs": []
    },
    {
      "cell_type": "code",
      "metadata": {
        "id": "TBKELvf7qyhr"
      },
      "source": [
        "#for event in events:\r\n",
        "  #print(event)\r\n"
      ],
      "execution_count": null,
      "outputs": []
    },
    {
      "cell_type": "code",
      "metadata": {
        "colab": {
          "base_uri": "https://localhost:8080/",
          "height": 282
        },
        "id": "ju1E2cSqHXKA",
        "outputId": "df7d9f72-eb7b-4e4e-9bf8-70c489417391"
      },
      "source": [
        "amount_susceptible = total_population - np.array(amount_infected)\r\n",
        "new_times = np.array(times) \r\n",
        "plt.plot(new_times, amount_susceptible, label='susceptible')\r\n",
        "plt.plot(new_times, amount_infected, label='infected')\r\n",
        "plt.legend()"
      ],
      "execution_count": null,
      "outputs": [
        {
          "output_type": "execute_result",
          "data": {
            "text/plain": [
              "<matplotlib.legend.Legend at 0x7f9b0978d410>"
            ]
          },
          "metadata": {
            "tags": []
          },
          "execution_count": 138
        },
        {
          "output_type": "display_data",
          "data": {
            "image/png": "[encoded data removed]",
            "text/plain": [
              "<Figure size 432x288 with 1 Axes>"
            ]
          },
          "metadata": {
            "tags": [],
            "needs_background": "light"
          }
        }
      ]
    },
    {
      "cell_type": "code",
      "metadata": {
        "colab": {
          "base_uri": "https://localhost:8080/",
          "height": 282
        },
        "id": "fuJNW14vvbcr",
        "outputId": "8257a6bf-ce19-45a5-cb12-d4aa204a2f55"
      },
      "source": [
        "cumsum_infected = np.cumsum(amount_infected)\r\n",
        "avg_infected = [cumsum_infected[i]/(i+1) for i in range(len(amount_susceptible))]\r\n",
        "plt.plot(new_times, avg_infected, label='avg_infected')\r\n",
        "plt.legend()"
      ],
      "execution_count": null,
      "outputs": [
        {
          "output_type": "execute_result",
          "data": {
            "text/plain": [
              "<matplotlib.legend.Legend at 0x7f9b06752fd0>"
            ]
          },
          "metadata": {
            "tags": []
          },
          "execution_count": 139
        },
        {
          "output_type": "display_data",
          "data": {
            "image/png": "[encoded data removed]",
            "text/plain": [
              "<Figure size 432x288 with 1 Axes>"
            ]
          },
          "metadata": {
            "tags": [],
            "needs_background": "light"
          }
        }
      ]
    }
  ]
}